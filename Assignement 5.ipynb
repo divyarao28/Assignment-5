{
 "cells": [
  {
   "cell_type": "markdown",
   "id": "87a4a347",
   "metadata": {},
   "source": [
    "# Write a Python class to implement pow(x, n)\n"
   ]
  },
  {
   "cell_type": "code",
   "execution_count": 41,
   "id": "9c76a929",
   "metadata": {},
   "outputs": [],
   "source": [
    "class pow_solution:\n",
    "    def pow(self, x, n):\n",
    "        if x==0 or x==1 or n==1:\n",
    "            return x\n",
    "        if x==-1:\n",
    "            if n%2 == 0:\n",
    "                return 1\n",
    "            else:\n",
    "                return -1\n",
    "        if n == 0:\n",
    "            return 1\n",
    "        if n<0:\n",
    "            return 1/pow(x,-n)\n",
    "        val = self.pow(x,n//2)\n",
    "            \n",
    "        if n % 2 ==0:\n",
    "            return val * val\n",
    "        return val * val * x"
   ]
  },
  {
   "cell_type": "code",
   "execution_count": 42,
   "id": "6437f259",
   "metadata": {},
   "outputs": [],
   "source": [
    "obj = pow_solution()"
   ]
  },
  {
   "cell_type": "code",
   "execution_count": 43,
   "id": "d195e058",
   "metadata": {},
   "outputs": [
    {
     "data": {
      "text/plain": [
       "100"
      ]
     },
     "execution_count": 43,
     "metadata": {},
     "output_type": "execute_result"
    }
   ],
   "source": [
    "obj.pow(10,2)"
   ]
  },
  {
   "cell_type": "code",
   "execution_count": 47,
   "id": "87377de3",
   "metadata": {},
   "outputs": [
    {
     "data": {
      "text/plain": [
       "0.01"
      ]
     },
     "execution_count": 47,
     "metadata": {},
     "output_type": "execute_result"
    }
   ],
   "source": [
    "obj.pow(10,-2)"
   ]
  },
  {
   "cell_type": "code",
   "execution_count": 49,
   "id": "6705a3e2",
   "metadata": {},
   "outputs": [
    {
     "data": {
      "text/plain": [
       "-1"
      ]
     },
     "execution_count": 49,
     "metadata": {},
     "output_type": "execute_result"
    }
   ],
   "source": [
    "obj.pow(-1,5)"
   ]
  },
  {
   "cell_type": "code",
   "execution_count": null,
   "id": "5d19912d",
   "metadata": {},
   "outputs": [],
   "source": []
  }
 ],
 "metadata": {
  "kernelspec": {
   "display_name": "Python 3 (ipykernel)",
   "language": "python",
   "name": "python3"
  },
  "language_info": {
   "codemirror_mode": {
    "name": "ipython",
    "version": 3
   },
   "file_extension": ".py",
   "mimetype": "text/x-python",
   "name": "python",
   "nbconvert_exporter": "python",
   "pygments_lexer": "ipython3",
   "version": "3.9.6"
  }
 },
 "nbformat": 4,
 "nbformat_minor": 5
}
